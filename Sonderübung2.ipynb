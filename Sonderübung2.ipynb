{
 "cells": [
  {
   "cell_type": "markdown",
   "metadata": {},
   "source": [
    "# Sonderübung 2"
   ]
  },
  {
   "cell_type": "markdown",
   "metadata": {},
   "source": [
    "## Imports"
   ]
  },
  {
   "cell_type": "code",
   "execution_count": 1,
   "metadata": {},
   "outputs": [],
   "source": [
    "import numpy as np\n",
    "from matplotlib import pyplot as plt\n",
    "import pandas as pd\n",
    "import scipy\n",
    "from gurobipy import Model, GRB, Var"
   ]
  },
  {
   "cell_type": "markdown",
   "metadata": {},
   "source": [
    "### Achtung: \n",
    "die untenstehenden Befehle funktionieren nur mit einer aktuellen pandas Version: falls beim pandas.drop() Befehl, ein Fehler auftritt , dann schauen, dass pandas geupdated wird zb über \"pip install pandas --upgrade\" (Version 1.4.2. funktioniert), danach das Notebook komplett neustarten und nicht nur die Importzelle neu ausführen"
   ]
  },
  {
   "cell_type": "markdown",
   "metadata": {},
   "source": [
    "## Parameter für das Optimierungsproblem"
   ]
  },
  {
   "cell_type": "code",
   "execution_count": 2,
   "metadata": {},
   "outputs": [],
   "source": [
    "shares = ['AAPL', 'MSFT', 'XOM', 'JNJ', 'GE', 'BRK-B', 'FB', \n",
    "          'AMZN', 'WFC','T','GOOGL','PG','GOOG','VZ','PFE',\n",
    "          'CVX','KO','HD','DIS','BAC','MRK','V','PM','CMCSA',\n",
    "          'INTC','PEP','CSCO','C','GILD','IBM']"
   ]
  },
  {
   "cell_type": "code",
   "execution_count": 3,
   "metadata": {},
   "outputs": [],
   "source": [
    "historical_prices = pd.read_excel('historical_prices.xlsx', index_col=0)\n",
    "historical_returns = historical_prices / historical_prices.shift(1) - 1\n",
    "historical_returns = historical_returns.drop(['2015-05-13'])\n",
    "mu = historical_returns.mean()*252 # Estimation of mu\n",
    "sigma = historical_returns.cov()*252 # Estimation of covariance-matrix"
   ]
  },
  {
   "cell_type": "code",
   "execution_count": 4,
   "metadata": {},
   "outputs": [
    {
     "data": {
      "text/html": [
       "<div>\n",
       "<style scoped>\n",
       "    .dataframe tbody tr th:only-of-type {\n",
       "        vertical-align: middle;\n",
       "    }\n",
       "\n",
       "    .dataframe tbody tr th {\n",
       "        vertical-align: top;\n",
       "    }\n",
       "\n",
       "    .dataframe thead th {\n",
       "        text-align: right;\n",
       "    }\n",
       "</style>\n",
       "<table border=\"1\" class=\"dataframe\">\n",
       "  <thead>\n",
       "    <tr style=\"text-align: right;\">\n",
       "      <th></th>\n",
       "      <th>AAPL</th>\n",
       "      <th>MSFT</th>\n",
       "      <th>XOM</th>\n",
       "      <th>JNJ</th>\n",
       "      <th>GE</th>\n",
       "      <th>BRK-B</th>\n",
       "      <th>FB</th>\n",
       "      <th>AMZN</th>\n",
       "    </tr>\n",
       "  </thead>\n",
       "  <tbody>\n",
       "    <tr>\n",
       "      <th>AAPL</th>\n",
       "      <td>0.077915</td>\n",
       "      <td>0.045575</td>\n",
       "      <td>0.031541</td>\n",
       "      <td>0.020971</td>\n",
       "      <td>0.028955</td>\n",
       "      <td>0.027391</td>\n",
       "      <td>0.040927</td>\n",
       "      <td>0.040994</td>\n",
       "    </tr>\n",
       "    <tr>\n",
       "      <th>MSFT</th>\n",
       "      <td>0.045575</td>\n",
       "      <td>0.072776</td>\n",
       "      <td>0.027717</td>\n",
       "      <td>0.025104</td>\n",
       "      <td>0.032222</td>\n",
       "      <td>0.029367</td>\n",
       "      <td>0.048484</td>\n",
       "      <td>0.051320</td>\n",
       "    </tr>\n",
       "    <tr>\n",
       "      <th>XOM</th>\n",
       "      <td>0.031541</td>\n",
       "      <td>0.027717</td>\n",
       "      <td>0.059183</td>\n",
       "      <td>0.022321</td>\n",
       "      <td>0.028922</td>\n",
       "      <td>0.027715</td>\n",
       "      <td>0.024145</td>\n",
       "      <td>0.024970</td>\n",
       "    </tr>\n",
       "    <tr>\n",
       "      <th>JNJ</th>\n",
       "      <td>0.020971</td>\n",
       "      <td>0.025104</td>\n",
       "      <td>0.022321</td>\n",
       "      <td>0.026636</td>\n",
       "      <td>0.019970</td>\n",
       "      <td>0.021105</td>\n",
       "      <td>0.022804</td>\n",
       "      <td>0.023365</td>\n",
       "    </tr>\n",
       "    <tr>\n",
       "      <th>GE</th>\n",
       "      <td>0.028955</td>\n",
       "      <td>0.032222</td>\n",
       "      <td>0.028922</td>\n",
       "      <td>0.019970</td>\n",
       "      <td>0.043824</td>\n",
       "      <td>0.026067</td>\n",
       "      <td>0.029822</td>\n",
       "      <td>0.028163</td>\n",
       "    </tr>\n",
       "    <tr>\n",
       "      <th>BRK-B</th>\n",
       "      <td>0.027391</td>\n",
       "      <td>0.029367</td>\n",
       "      <td>0.027715</td>\n",
       "      <td>0.021105</td>\n",
       "      <td>0.026067</td>\n",
       "      <td>0.031443</td>\n",
       "      <td>0.026365</td>\n",
       "      <td>0.025164</td>\n",
       "    </tr>\n",
       "    <tr>\n",
       "      <th>FB</th>\n",
       "      <td>0.040927</td>\n",
       "      <td>0.048484</td>\n",
       "      <td>0.024145</td>\n",
       "      <td>0.022804</td>\n",
       "      <td>0.029822</td>\n",
       "      <td>0.026365</td>\n",
       "      <td>0.106992</td>\n",
       "      <td>0.075159</td>\n",
       "    </tr>\n",
       "    <tr>\n",
       "      <th>AMZN</th>\n",
       "      <td>0.040994</td>\n",
       "      <td>0.051320</td>\n",
       "      <td>0.024970</td>\n",
       "      <td>0.023365</td>\n",
       "      <td>0.028163</td>\n",
       "      <td>0.025164</td>\n",
       "      <td>0.075159</td>\n",
       "      <td>0.121713</td>\n",
       "    </tr>\n",
       "  </tbody>\n",
       "</table>\n",
       "</div>"
      ],
      "text/plain": [
       "           AAPL      MSFT       XOM       JNJ        GE     BRK-B        FB  \\\n",
       "AAPL   0.077915  0.045575  0.031541  0.020971  0.028955  0.027391  0.040927   \n",
       "MSFT   0.045575  0.072776  0.027717  0.025104  0.032222  0.029367  0.048484   \n",
       "XOM    0.031541  0.027717  0.059183  0.022321  0.028922  0.027715  0.024145   \n",
       "JNJ    0.020971  0.025104  0.022321  0.026636  0.019970  0.021105  0.022804   \n",
       "GE     0.028955  0.032222  0.028922  0.019970  0.043824  0.026067  0.029822   \n",
       "BRK-B  0.027391  0.029367  0.027715  0.021105  0.026067  0.031443  0.026365   \n",
       "FB     0.040927  0.048484  0.024145  0.022804  0.029822  0.026365  0.106992   \n",
       "AMZN   0.040994  0.051320  0.024970  0.023365  0.028163  0.025164  0.075159   \n",
       "\n",
       "           AMZN  \n",
       "AAPL   0.040994  \n",
       "MSFT   0.051320  \n",
       "XOM    0.024970  \n",
       "JNJ    0.023365  \n",
       "GE     0.028163  \n",
       "BRK-B  0.025164  \n",
       "FB     0.075159  \n",
       "AMZN   0.121713  "
      ]
     },
     "execution_count": 4,
     "metadata": {},
     "output_type": "execute_result"
    }
   ],
   "source": [
    "sigma.iloc[0:8,0:8]"
   ]
  },
  {
   "cell_type": "code",
   "execution_count": 5,
   "metadata": {},
   "outputs": [],
   "source": [
    "Sigma = sigma.values\n",
    "Mu = mu.values\n",
    "lamb = 10\n",
    "n = Mu.size"
   ]
  },
  {
   "cell_type": "markdown",
   "metadata": {},
   "source": [
    "## Aufgabe 2 b) \n",
    "Zeigen Sie, dass die Zielfunktion von $P$ mit den gegebenen Daten $\\Sigma, \\mu$ und $\\lambda$ gleichmäßig konvex ist."
   ]
  },
  {
   "cell_type": "code",
   "execution_count": 6,
   "metadata": {},
   "outputs": [
    {
     "name": "stdout",
     "output_type": "stream",
     "text": [
      "0.007788373017431655\n"
     ]
    }
   ],
   "source": [
    "eigenvalues, _ = np.linalg.eig(lamb*Sigma)\n",
    "print(min(eigenvalues))"
   ]
  },
  {
   "cell_type": "markdown",
   "metadata": {},
   "source": [
    "## 2 c) Frank Wolfe\n",
    "Implementieren Sie das Verfahren aus dem Algorithmus auf dem Aufgabenblatt. Geben Sie am Ende aus, wie viel in welche Aktien investiert wird. Beachten Sie die Hinweise auf dem Aufgabenblatt."
   ]
  },
  {
   "cell_type": "code",
   "execution_count": 7,
   "metadata": {},
   "outputs": [],
   "source": [
    "eps = 1e-4"
   ]
  },
  {
   "cell_type": "code",
   "execution_count": 8,
   "metadata": {},
   "outputs": [],
   "source": [
    "def problem_S(x_k,d_k):\n",
    "    m = Model(\"S\")\n",
    "    m.Params.LogToConsole = 0\n",
    "    \n",
    "    t = m.addVar(vtype = GRB.CONTINUOUS, lb=0, ub=1, name = \"t\")\n",
    "    \n",
    "    lin = m.addMVar(n, vtype = GRB.CONTINUOUS, lb=float('-inf'), ub=float('inf'), name = \"t\")\n",
    "    for i in range(n):\n",
    "        m.addConstr(x_k[i]+t*d_k[i] == lin[i])\n",
    "        \n",
    "    m.setObjective(-Mu @ lin + 1/2 * lamb * (lin @ Sigma @ lin))\n",
    "    \n",
    "    m.optimize()\n",
    "    return m.x[0], m.ObjVal"
   ]
  },
  {
   "cell_type": "code",
   "execution_count": 9,
   "metadata": {},
   "outputs": [],
   "source": [
    "def problem_Q(xk):\n",
    "    m = Model(\"Q\")\n",
    "    m.Params.LogToConsole = 0\n",
    "    \n",
    "    x = m.addMVar(len(shares), lb=0, name=\"x\")\n",
    "    m.addConstr(x.sum() == 1)\n",
    "    \n",
    "    vec = -Mu+lamb*Sigma@xk\n",
    "    m.setObjective(sum((x[i]-xk[i])*vec[i] for i in range(len(vec))))\n",
    "    \n",
    "    m.optimize()\n",
    "    return m.x, m.ObjVal"
   ]
  },
  {
   "cell_type": "code",
   "execution_count": 10,
   "metadata": {},
   "outputs": [
    {
     "name": "stdout",
     "output_type": "stream",
     "text": [
      "Set parameter Username\n",
      "Academic license - for non-commercial use only - expires 2022-06-28\n",
      "Lösung nach 56 iterationen: x=[9.79351738e-10 0.00000000e+00 0.00000000e+00 0.00000000e+00\n",
      " 0.00000000e+00 0.00000000e+00 1.61782108e-01 3.02403509e-01\n",
      " 0.00000000e+00 2.40648825e-01 0.00000000e+00 0.00000000e+00\n",
      " 0.00000000e+00 0.00000000e+00 0.00000000e+00 0.00000000e+00\n",
      " 0.00000000e+00 0.00000000e+00 0.00000000e+00 0.00000000e+00\n",
      " 0.00000000e+00 0.00000000e+00 2.95165557e-01 0.00000000e+00\n",
      " 0.00000000e+00 0.00000000e+00 0.00000000e+00 0.00000000e+00\n",
      " 0.00000000e+00 0.00000000e+00], Objective Value=-0.16481089931376122\n"
     ]
    }
   ],
   "source": [
    "k = 0\n",
    "x_k = np.concatenate([np.array([1]),np.repeat(0,29)])\n",
    "y_k, v_k = problem_Q(x_k)\n",
    "\n",
    "while v_k < -eps:\n",
    "    d_k = y_k-x_k\n",
    "    t_k, _ = problem_S(x_k=x_k, d_k=d_k)\n",
    "    x_k = x_k + t_k*d_k\n",
    "    k += 1\n",
    "    y_k, v_k = problem_Q(x_k)\n",
    "\n",
    "x_quer = x_k\n",
    "Obj_Frank_Wolfe = -Mu@x_quer+1/2*lamb*(x_quer@Sigma@x_quer)\n",
    "print(f\"Lösung nach {k} iterationen: x={x_quer}, Objective Value={Obj_Frank_Wolfe}\")"
   ]
  },
  {
   "cell_type": "code",
   "execution_count": 18,
   "id": "7da385b8",
   "metadata": {},
   "outputs": [
    {
     "name": "stdout",
     "output_type": "stream",
     "text": [
      "AMZN: 0.3024035091391453\n",
      "PM: 0.29516555736119554\n",
      "T: 0.24064882462566003\n",
      "FB: 0.16178210789464734\n",
      "AAPL: 9.793517381744017e-10\n",
      "MSFT: 0.0\n",
      "XOM: 0.0\n",
      "JNJ: 0.0\n",
      "GE: 0.0\n",
      "BRK-B: 0.0\n",
      "WFC: 0.0\n",
      "GOOGL: 0.0\n",
      "PG: 0.0\n",
      "GOOG: 0.0\n",
      "VZ: 0.0\n",
      "PFE: 0.0\n",
      "CVX: 0.0\n",
      "KO: 0.0\n",
      "HD: 0.0\n",
      "DIS: 0.0\n",
      "BAC: 0.0\n",
      "MRK: 0.0\n",
      "V: 0.0\n",
      "CMCSA: 0.0\n",
      "INTC: 0.0\n",
      "PEP: 0.0\n",
      "CSCO: 0.0\n",
      "C: 0.0\n",
      "GILD: 0.0\n",
      "IBM: 0.0\n"
     ]
    }
   ],
   "source": [
    "for k, v in sorted(dict(zip(shares,x_quer)).items(), key=lambda x: x[1], reverse=True): print(f\"{k}: {v}\")"
   ]
  },
  {
   "cell_type": "markdown",
   "metadata": {},
   "source": [
    "## 2 d) Python Lösung\n",
    "Lösen Sie $P$ direkt mit Python und vergleichen Sie ihren Optimalpunkt mit dem aus Teil c). Ist dieses Ergebnis zu erwarten? Verwenden Sie Aufgabenteil b)."
   ]
  },
  {
   "cell_type": "code",
   "execution_count": 12,
   "metadata": {},
   "outputs": [
    {
     "name": "stdout",
     "output_type": "stream",
     "text": [
      "Gurobi Optimizer version 9.5.1 build v9.5.1rc2 (win64)\n",
      "Thread count: 6 physical cores, 6 logical processors, using up to 6 threads\n",
      "Optimize a model with 1 rows, 30 columns and 30 nonzeros\n",
      "Model fingerprint: 0x311a088c\n",
      "Model has 465 quadratic objective terms\n",
      "Coefficient statistics:\n",
      "  Matrix range     [1e+00, 1e+00]\n",
      "  Objective range  [6e-03, 6e-01]\n",
      "  QObjective range [2e-01, 2e+00]\n",
      "  Bounds range     [0e+00, 0e+00]\n",
      "  RHS range        [1e+00, 1e+00]\n",
      "Presolve time: 0.00s\n",
      "Presolved: 1 rows, 30 columns, 30 nonzeros\n",
      "Presolved model has 465 quadratic objective terms\n",
      "Ordering time: 0.00s\n",
      "\n",
      "Barrier statistics:\n",
      " Free vars  : 29\n",
      " AA' NZ     : 4.350e+02\n",
      " Factor NZ  : 4.650e+02\n",
      " Factor Ops : 9.455e+03 (less than 1 second per iteration)\n",
      " Threads    : 1\n",
      "\n",
      "                  Objective                Residual\n",
      "Iter       Primal          Dual         Primal    Dual     Compl     Time\n",
      "   0   4.11394286e+05 -4.15036547e+05  2.30e+04 5.81e-01  9.99e+05     0s\n",
      "   1   9.59011366e+04 -9.65538749e+04  1.63e+03 5.48e-06  7.66e+04     0s\n",
      "   2   2.32125450e+01 -7.39100114e+02  1.45e+01 4.85e-08  7.12e+02     0s\n",
      "   3   2.21435606e-02 -6.67326756e+02  1.45e-05 4.79e-14  2.22e+01     0s\n",
      "   4   2.19048242e-02 -9.14362102e-01  5.83e-09 2.78e-17  3.12e-02     0s\n",
      "   5  -7.24725202e-02 -2.03415874e-01  3.96e-10 5.55e-17  4.36e-03     0s\n",
      "   6  -1.43719264e-01 -1.85243777e-01  4.44e-16 6.94e-17  1.38e-03     0s\n",
      "   7  -1.63300891e-01 -1.65266702e-01  3.05e-16 1.11e-16  6.55e-05     0s\n",
      "   8  -1.64762020e-01 -1.64812992e-01  5.88e-15 1.11e-16  1.70e-06     0s\n",
      "   9  -1.64810787e-01 -1.64811069e-01  1.20e-13 5.55e-17  9.40e-09     0s\n",
      "  10  -1.64811068e-01 -1.64811068e-01  2.73e-13 1.94e-16  9.40e-12     0s\n",
      "\n",
      "Barrier solved model in 10 iterations and 0.01 seconds (0.00 work units)\n",
      "Optimal objective -1.64811068e-01\n",
      "\n"
     ]
    }
   ],
   "source": [
    "m = Model(\"d)\")\n",
    "x = m.addMVar(len(shares), lb=0)\n",
    "m.addConstr(x.sum() == 1)\n",
    "m.setObjective(-Mu@x+1/2*lamb*(x@Sigma@x))\n",
    "m.optimize()\n",
    "Obj_Gurobi = m.ObjVal\n",
    "x_gurobi = m.x"
   ]
  },
  {
   "cell_type": "markdown",
   "metadata": {},
   "source": [
    "### Vergleich"
   ]
  },
  {
   "cell_type": "code",
   "execution_count": 19,
   "id": "15ba2df9",
   "metadata": {},
   "outputs": [
    {
     "name": "stdout",
     "output_type": "stream",
     "text": [
      "[-9.78928197e-10  1.21501025e-12  1.85794084e-12  7.13367018e-11\n",
      "  3.81297657e-12  1.29544439e-12  1.98562512e-04 -9.81524721e-05\n",
      "  7.07885654e-13 -1.30282457e-03  7.63909988e-09  2.21215687e-12\n",
      "  8.66401490e-09  2.17110213e-12  1.61567733e-12  9.06603247e-13\n",
      "  1.33644486e-11  1.84084002e-10  9.43350960e-13  6.03210826e-13\n",
      "  9.34471375e-13  3.22469235e-12  1.20239891e-03  3.18715080e-12\n",
      "  8.62935022e-13  4.01115417e-12  7.73246369e-13  5.18884801e-13\n",
      "  5.76986042e-13  7.56002811e-13]\n"
     ]
    }
   ],
   "source": [
    "print(x_gurobi - x_quer)"
   ]
  },
  {
   "cell_type": "code",
   "execution_count": 21,
   "id": "020091ec",
   "metadata": {},
   "outputs": [
    {
     "name": "stdout",
     "output_type": "stream",
     "text": [
      "Objective Value:\n",
      "Frank Wolfe Verfahen: -0.16481089931376122\n",
      "Gurobi: -0.1648110676775003\n",
      "Difference:  1.6836373908923896e-07\n"
     ]
    }
   ],
   "source": [
    "print(f\"Objective Value:\\nFrank Wolfe Verfahen: {Obj_Frank_Wolfe}\\nGurobi: {Obj_Gurobi}\\nDifference:  {Obj_Frank_Wolfe-Obj_Gurobi}\")"
   ]
  }
 ],
 "metadata": {
  "interpreter": {
   "hash": "ad48721da5f12011362dd6407cb65fda34afbfe1199a40f252a4ca158cc5b0f5"
  },
  "kernelspec": {
   "display_name": "Python 3.6.13 ('GO1')",
   "language": "python",
   "name": "python3"
  },
  "language_info": {
   "codemirror_mode": {
    "name": "ipython",
    "version": 3
   },
   "file_extension": ".py",
   "mimetype": "text/x-python",
   "name": "python",
   "nbconvert_exporter": "python",
   "pygments_lexer": "ipython3",
   "version": "3.7.13"
  }
 },
 "nbformat": 4,
 "nbformat_minor": 5
}
